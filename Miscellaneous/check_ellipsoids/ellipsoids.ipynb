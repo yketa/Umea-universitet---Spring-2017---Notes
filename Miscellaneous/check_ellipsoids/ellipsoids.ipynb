{
 "cells": [
  {
   "cell_type": "markdown",
   "metadata": {},
   "source": [
    "# Ellipsoids\n",
    "\n",
    "We check the relative orientations of our ellispoids by computing their belonging function within this [SageMath](https://www.sagemath.org/) notebook and then plotting them with [Geogebra](https://www.geogebra.org/)."
   ]
  },
  {
   "cell_type": "markdown",
   "metadata": {},
   "source": [
    "## Relative orientations"
   ]
  },
  {
   "cell_type": "markdown",
   "metadata": {},
   "source": [
    "We have that the quaternion $q \\equiv (q_0, \\vec{q}^T)$ and $\\vec{q} = \\begin{pmatrix} q1 \\\\ q2 \\\\ q3 \\end{pmatrix}$ describes the rotation matrix\n",
    "$$\n",
    "Q_q = (\\vec{q} \\times \\cdot + q_0 I_3)^2 + \\vec{q} \\, \\vec{q}^T,\n",
    "$$\n",
    "which can be expanded to\n",
    "$$\n",
    "Q_q = \\begin{pmatrix}\n",
    "  1 - 2 (q_2^2 + q_3^2) & 2 (q_1 q_2 - q_0 q_3) & 2 (q_1 q_3 + q_0 q_2) \\\\\n",
    "  2 (q_1 q_2 + q_0 q_3) & 1 - 2 (q_1^2 + q_3^2) & 2 (q_2 q_3 - q_0 q_1) \\\\\n",
    "  2 (q_1 q_3 - q_0 q_2) & 2 (q_2 q_3 + q_0 q_1) & 1 - 2 (q_1^2 + q_2^2)\n",
    "\\end{pmatrix}.\n",
    "$$"
   ]
  },
  {
   "cell_type": "code",
   "execution_count": 4,
   "metadata": {},
   "outputs": [],
   "source": [
    "def Qq(q0, q1, q2, q3):\n",
    "    \"\"\"\n",
    "    Associate rotation matrix to quaternion.\n",
    "    \"\"\"\n",
    "    \n",
    "    Q = Matrix(\n",
    "        [[1 - 2*(q2**2 + q3**2), 2*(q1*q2 - q0*q3), 2*(q1*q3 + q0*q2)],\n",
    "         [2*(q1*q2 + q0*q3), 1 - 2*(q1**2 + q3**2), 2*(q2*q3 - q0*q1)],\n",
    "         [2*(q1*q3 - q0*q2), 2*(q2*q3 + q0*q1), 1 - 2*(q1**2 + q2**2)]])\n",
    "    return Q"
   ]
  },
  {
   "cell_type": "markdown",
   "metadata": {},
   "source": [
    "With $(R_1, R_2, R_3)$ the lengths of each semi-axes in the directions $(x, y, z)$, we have the reduced belonging matrix\n",
    "$$\n",
    "\\overline{B} = Q \\begin{pmatrix} R_1^{-2} & 0 & 0 \\\\ 0 & R_2^{-2} & 0 \\\\ 0 & 0 & R_3^{-2} \\end{pmatrix} Q^T.\n",
    "$$"
   ]
  },
  {
   "cell_type": "code",
   "execution_count": 5,
   "metadata": {},
   "outputs": [],
   "source": [
    "def Bbar(q0, q1, q2, q3, R1, R2, R3):\n",
    "    \"\"\"\n",
    "    Associate reduced belonging matrix to quaternion and semi-axes.\n",
    "    \"\"\"\n",
    "    \n",
    "    Q = Qq(q0, q1, q2, q3)\n",
    "    diag = Matrix([[1/(R1**2), 0, 0], [0, 1/(R2**2), 0], [0, 0, 1/(R3**2)]])\n",
    "    return Q*diag*Q.transpose()"
   ]
  },
  {
   "cell_type": "markdown",
   "metadata": {},
   "source": [
    "We have $\\alpha = 2.5$ the aspect ratio.\n",
    "\n",
    "##### First ellispoid\n",
    "\n",
    "The first ellispoid is a big one with major semi-axis length $R_{11} = 0.7$, we thus have\n",
    "$$\n",
    "R_{21} = R_{31} = R_{11}/\\alpha.\n",
    "$$\n",
    "\n",
    "From the data, it is located at\n",
    "$$\n",
    "\\vec{v}_1 = \\begin{pmatrix} 4.59765 \\\\ -21.8847 \\\\ -18.7785 \\end{pmatrix},\n",
    "$$\n",
    "and is described by the quaternion\n",
    "$$\n",
    "q_1 = (q_{01}, q_{11}, q_{21}, q_{31}) = (-0.122748, 0.177502, -0.95229, 0.215802).\n",
    "$$\n",
    "\n",
    "##### Second ellispoid\n",
    "\n",
    "The second ellispoid is a small one. We have the small to big ratio $R_{11}/R{12} = 1.4$, therefore\n",
    "$$\n",
    "R_{12} = R_{11}/1.4, R_{22} = R_{21}/1.4, R_{32} = R_{31}/1.4.\n",
    "$$\n",
    "\n",
    "From the data, it is located at\n",
    "$$\n",
    "\\vec{v}_2 = \\begin{pmatrix} 4.83132 \\\\ -21.7165 \\\\ -20.6201 \\end{pmatrix},\n",
    "$$\n",
    "and is described by the quaternion\n",
    "$$\n",
    "q_2 = (q_{02}, q_{12}, q_{22}, q_{32}) = (-0.116927, -0.737674, 0.114698, -0.654988).\n",
    "$$"
   ]
  },
  {
   "cell_type": "code",
   "execution_count": 6,
   "metadata": {},
   "outputs": [
    {
     "name": "stdout",
     "output_type": "stream",
     "text": [
      "FIRST ELLIPSOID\n",
      "Quaternion: (-0.122748, 0.177502, -0.952290, 0.215802)\n",
      "Semi-axes: (0.700000, 0.280000, 0.280000)\n",
      "Centre:\n",
      "[ 4.59765000000000]\n",
      "[-21.8847000000000]\n",
      "[-18.7785000000000]\n",
      "Reduced belonging matrix:\n",
      "[  3.94389070391919  -3.79950169436130  -1.52713774770834]\n",
      "[ -3.79950169436130   11.1167149670264 -0.658509915760596]\n",
      "[ -1.52713774770834 -0.658509915760598   12.4904611873514]\n",
      "\n",
      "SECOND ELLISPOID\n",
      "Quaternion: (-0.116927, -0.737674, 0.114698, -0.654988)\n",
      "Semi-axes: (0.500000, 0.200000, 0.200000)\n",
      "Centre:\n",
      "[ 4.83132000000000]\n",
      "[-21.7165000000000]\n",
      "[-20.6201000000000]\n",
      "Reduced Belonging matrix:\n",
      "[  24.7190182187781 0.0389795462774067  -2.41244221167954]\n",
      "[0.0389795462774067   24.9945688881201  0.334698303833604]\n",
      "[ -2.41244221167954  0.334698303833604   4.28637525650281]\n"
     ]
    }
   ],
   "source": [
    "alpha = 2.5 # aspect ratio\n",
    "smalltobig = 1.4 # small to big radius ratio\n",
    "\n",
    "# First ellispoid\n",
    "\n",
    "q01, q11, q21, q31 = -0.122748, 0.177502, -0.95229, 0.215802\n",
    "R11 = 0.7\n",
    "R21 = R31 = R11/alpha\n",
    "v1 = Matrix([[4.59765], [-21.8847], [-18.7785]])\n",
    "\n",
    "print('FIRST ELLIPSOID')\n",
    "print('Quaternion: (%f, %f, %f, %f)' % (q01, q11, q21, q31))\n",
    "print('Semi-axes: (%f, %f, %f)' % (R11, R21, R31))\n",
    "print('Centre:')\n",
    "print(v1)\n",
    "\n",
    "print('Reduced belonging matrix:')\n",
    "Bbar1 = Bbar(q01, q11, q21, q31, R11, R21, R31)\n",
    "print(Bbar1)\n",
    "\n",
    "print()\n",
    "\n",
    "# Second ellipsoid\n",
    "\n",
    "q02, q12, q22, q32 = -0.116927, -0.737674, 0.114698, -0.654988\n",
    "R12, R22, R32 = R11/smalltobig, R21/smalltobig, R31/smalltobig\n",
    "v2 = Matrix([[4.83132], [-21.7165], [-20.6201]])\n",
    "\n",
    "print('SECOND ELLISPOID')\n",
    "print('Quaternion: (%f, %f, %f, %f)' % (q02, q12, q22, q32))\n",
    "print('Semi-axes: (%f, %f, %f)' % (R12, R22, R32))\n",
    "print('Centre:')\n",
    "print(v2)\n",
    "\n",
    "print('Reduced Belonging matrix:')\n",
    "Bbar2 = Bbar(q02, q12, q22, q32, R12, R22, R32)\n",
    "print(Bbar2)"
   ]
  },
  {
   "cell_type": "markdown",
   "metadata": {},
   "source": [
    "With $\\vec{r} = \\begin{pmatrix} x \\\\ y \\\\ z \\end{pmatrix}$ we have the belonging function of an ellispoid at $\\vec{v}$ described by the reduced belonging matrix $\\overline{B}$\n",
    "$$\n",
    "f(x, y, z) = (\\vec{r} - \\vec{v})^T \\, \\overline{B} \\, (\\vec{r} - \\vec{v}) - 1,\n",
    "$$\n",
    "such that $f(x, y, z) \\leq 0 \\Leftrightarrow \\vec{r}$ is located inside the ellipsoid. "
   ]
  },
  {
   "cell_type": "code",
   "execution_count": 7,
   "metadata": {},
   "outputs": [],
   "source": [
    "def belfunc(v, B):\n",
    "    \"\"\"\n",
    "    Returns belonging function of ellispoid with centre `v' and reduced belonging matrix `B'.\n",
    "    \"\"\"\n",
    "    \n",
    "    X = Matrix([[var('x')], [var('y')], [var('z')]])\n",
    "    \n",
    "    return (expand((X - v).transpose()*B*(X - v)) - 1)[0, 0]"
   ]
  },
  {
   "cell_type": "markdown",
   "metadata": {},
   "source": [
    "In order to make plotting easier, we compute the belonging functions for the first ellispoids located at $\\begin{pmatrix} 0 \\\\ 0 \\\\ 0 \\end{pmatrix}$ and the second at $\\vec{v}_2 - \\vec{v}_1$."
   ]
  },
  {
   "cell_type": "code",
   "execution_count": 8,
   "metadata": {},
   "outputs": [
    {
     "name": "stdout",
     "output_type": "stream",
     "text": [
      "FIRST ELLIPSOID\n",
      "Belonging function:\n",
      "f1(x, y, z) = 3.94389070391919*x^2 - 7.59900338872261*x*y + 11.1167149670264*y^2 - 3.05427549541667*x*z - 1.31701983152119*y*z + 12.4904611873514*z^2 - 1\n",
      "\n",
      "SECOND ELLIPSOID\n",
      "Belonging function:\n",
      "f2(x, y, z) = 24.7190182187781*x^2 + 0.0779590925548135*x*y + 24.9945688881201*y^2 - 4.82488442335907*x*z + 0.669396607667209*y*z + 4.28637525650281*z^2 - 20.4508058477895*x - 7.19362888244089*y + 16.8024155785478*z + 17.4660183549666\n"
     ]
    }
   ],
   "source": [
    "# First ellispoid\n",
    "\n",
    "print('FIRST ELLIPSOID')\n",
    "print('Belonging function:')\n",
    "print('f1(x, y, z) =', belfunc(v1 - v1, Bbar1))\n",
    "\n",
    "print()\n",
    "\n",
    "# Seond ellispoid\n",
    "\n",
    "print('SECOND ELLIPSOID')\n",
    "print('Belonging function:')\n",
    "print('f2(x, y, z) =', belfunc(v2 - v1, Bbar2))"
   ]
  },
  {
   "cell_type": "markdown",
   "metadata": {},
   "source": [
    "We now plot $f_1(x, y, z) = 0$ and $f_2(x, y, z) = 0$ with [Geogebra](https://www.geogebra.org/)."
   ]
  },
  {
   "cell_type": "markdown",
   "metadata": {},
   "source": [
    "## Intersection"
   ]
  },
  {
   "cell_type": "markdown",
   "metadata": {},
   "source": [
    "We follow the Perram and Wertheim method in order to compute the contact function and its maximum, and thus determine if the ellipsoids are overlapping."
   ]
  },
  {
   "cell_type": "markdown",
   "metadata": {},
   "source": [
    "We first denote for our two ellispoids described by the respective belonging matrices $\\overline{B}_1$ and $\\overline{B}_2$ and centres $\\vec{v}_1$ and $\\vec{v}_2$, the matrix\n",
    "$$\n",
    "Y(\\eta) = \\eta \\overline{B}_2^{-1} + (1 - \\eta) \\overline{B}_1^{-1}.\n",
    "$$"
   ]
  },
  {
   "cell_type": "code",
   "execution_count": 18,
   "metadata": {},
   "outputs": [],
   "source": [
    "eta = var('eta')\n",
    "Y = eta*Bbar2.inverse() + (1 - eta)*Bbar1.inverse()"
   ]
  },
  {
   "cell_type": "markdown",
   "metadata": {},
   "source": [
    "We can then write the contact function\n",
    "$$\n",
    "\\begin{aligned}\n",
    "F(\\eta) &= \\eta (1 - \\eta) (\\vec{v}_2 - \\vec{v}_1)^T \\, Y(\\eta)^{-1} \\, (\\vec{v}_2 - \\vec{v}_1)\\\\\n",
    "&= \\frac{\\eta (1 - \\eta) (\\vec{v}_2 - \\vec{v}_1)^T \\, \\text{adj}(Y(\\eta)) \\, (\\vec{v}_2 - \\vec{v}_1)}{\\text{det}(Y(\\eta))} \\equiv \\frac{p(\\eta)}{q(\\eta)},\n",
    "\\end{aligned}\n",
    "$$\n",
    "where $\\text{ajd}$ denotes the adjugate matrix — the transpose of the cofactor matrix — and $\\text{det}$ the determinant."
   ]
  },
  {
   "cell_type": "code",
   "execution_count": 19,
   "metadata": {},
   "outputs": [],
   "source": [
    "p = eta*(1 - eta)*((v2 - v1).transpose())*(Y.adjugate())*(v2 - v1)\n",
    "q = Y.determinant()\n",
    "F = expand(p/q)[0, 0]"
   ]
  },
  {
   "cell_type": "markdown",
   "metadata": {},
   "source": [
    "According to Perram and Wertheim, there is an unique maximum of $F(\\eta)$ between 0 and 1. We determine this maximum by looking the root of its derivative\n",
    "$$\n",
    "F^{\\prime}(\\eta) = \\frac{p^{\\prime}(\\eta) q(\\eta) - p(\\eta) q^{\\prime}(\\eta)}{q^2(\\eta)},\n",
    "$$\n",
    "which is equivalent to finding the root of\n",
    "$$\n",
    "h(\\eta) = p^{\\prime}(\\eta) q(\\eta) - p(\\eta) q^{\\prime}(\\eta),\n",
    "$$\n",
    "provided that $q(\\eta) \\neq 0$."
   ]
  },
  {
   "cell_type": "code",
   "execution_count": 20,
   "metadata": {},
   "outputs": [
    {
     "name": "stdout",
     "output_type": "stream",
     "text": [
      "h(eta) = -0.0001595973509325443*eta^6 + 0.0008442274539711006*eta^5 - 0.0012207001348191445*eta^4 - 0.000507511576441382*eta^3 + 0.00255165571215795*eta^2 - 0.00191300405166246*eta + 0.00040197537383020166\n"
     ]
    },
    {
     "data": {
      "image/png": "[encoded data removed]",
      "text/plain": [
       "Graphics object consisting of 1 graphics primitive"
      ]
     },
     "execution_count": 20,
     "metadata": {},
     "output_type": "execute_result"
    }
   ],
   "source": [
    "h = expand(p.derivative(eta)*q - p*q.derivative(eta))[0, 0]\n",
    "print('h(eta) =', h)\n",
    "plot(h, (eta, 0, 1), legend_label='h(eta)')"
   ]
  },
  {
   "cell_type": "markdown",
   "metadata": {},
   "source": [
    "According to the plot above, there is indeed an unique root of $h(\\eta)$ between 0 and 1. We use [Halley's method](https://en.wikipedia.org/wiki/Halley%27s_method) to determine this root.\n",
    "\n",
    "It is an iterative method defined by\n",
    "$$\n",
    "\\eta_{n + 1} = \\eta_n - \\frac{h(\\eta_n)}{h^{\\prime}(\\eta_n)}\\left[1 - \\frac{h(\\eta_n)}{h^{\\prime}(\\eta_n)} \\cdot \\frac{h^{\\prime\\prime}(\\eta_n)}{2 h^{\\prime}(\\eta_n)}\\right]^{-1}.\n",
    "$$\n",
    "Following Donev, we choose\n",
    "$$\n",
    "\\eta_0 = \\frac{R_{11}}{R_{11} + R_{12}}\n",
    "$$\n",
    "as the initial guess of the root since it is the exact solution for spheres."
   ]
  },
  {
   "cell_type": "code",
   "execution_count": 21,
   "metadata": {},
   "outputs": [
    {
     "name": "stdout",
     "output_type": "stream",
     "text": [
      "Root estimate: eta = 0.370848824365236\n",
      "Number of iterations: 24\n"
     ]
    }
   ],
   "source": [
    "epsilon = 1e-12 # error margin\n",
    "\n",
    "hp = h.derivative(eta)\n",
    "hpp = hp.derivative(eta)\n",
    "\n",
    "etan = R11/(R11 + R12) # initial guess\n",
    "iterations = 0 # number of iterations\n",
    "while abs(h(etan)) > epsilon: # Hayley's method iteration\n",
    "    iterations += 1\n",
    "    etan = etan - (h(etan)/hp(etan))/(1 - (h(etan)/hp(etan))*(hpp(etan)/(2*hp(etan))))\n",
    "\n",
    "print('Root estimate: eta =', etan)\n",
    "print('Number of iterations:', iterations)"
   ]
  },
  {
   "cell_type": "markdown",
   "metadata": {},
   "source": [
    "We have the rescaling factor\n",
    "$$\n",
    "\\mu = \\sqrt{\\max_{0 < \\eta < 1} F(\\lambda)}.\n",
    "$$"
   ]
  },
  {
   "cell_type": "code",
   "execution_count": 22,
   "metadata": {},
   "outputs": [
    {
     "name": "stdout",
     "output_type": "stream",
     "text": [
      "Rescaling factor: 2.44291347217997\n"
     ]
    }
   ],
   "source": [
    "mu = sqrt(F(etan))\n",
    "print('Rescaling factor:', mu)"
   ]
  },
  {
   "cell_type": "markdown",
   "metadata": {},
   "source": [
    "We have $\\mu > 1$, therefore ellispoids are not overlapping.\n",
    "\n",
    "We can confirm we have computed the right rescaling factor by plotting the rescaled ellipsoids. We thus compute the corresponding belonging functions."
   ]
  },
  {
   "cell_type": "code",
   "execution_count": 23,
   "metadata": {},
   "outputs": [
    {
     "name": "stdout",
     "output_type": "stream",
     "text": [
      "FIRST ELLIPSOID\n",
      "Belonging function:\n",
      "f1(x, y, z) = 0.660858837075833*x^2 - 1.27332852744020*x*y + 1.86277457382680*y^2 - 0.511790286177168*x*z - 0.220686692306151*y*z + 2.09296663485403*z^2 - 1\n",
      "\n",
      "SECOND ELLIPSOID\n",
      "Belonging function:\n",
      "f2(x, y, z) = 4.14204724727401*x^2 + 0.0130632309850942*x*y + 4.18821995046678*y^2 - 0.808482726429964*x*z + 0.112167576866634*y*z + 0.718247329843123*z^2 - 3.42684338498615*x - 1.20540186696371*y + 2.81550013753411*z + 2.09426207053791\n"
     ]
    }
   ],
   "source": [
    "# First ellispoid\n",
    "\n",
    "print('FIRST ELLIPSOID')\n",
    "print('Belonging function:')\n",
    "print('f1(x, y, z) =', belfunc(v1 - v1, Bbar(q01, q11, q21, q31, R11*mu, R21*mu, R31*mu)))\n",
    "\n",
    "print()\n",
    "\n",
    "# Seond ellispoid\n",
    "\n",
    "print('SECOND ELLIPSOID')\n",
    "print('Belonging function:')\n",
    "print('f2(x, y, z) =', belfunc(v2 - v1, Bbar(q02, q12, q22, q32, R12*mu, R22*mu, R32*mu)))"
   ]
  },
  {
   "cell_type": "code",
   "execution_count": null,
   "metadata": {},
   "outputs": [],
   "source": []
  }
 ],
 "metadata": {
  "kernelspec": {
   "display_name": "SageMath",
   "language": "sage",
   "name": "sage"
  },
  "language_info": {
   "codemirror_mode": {
    "name": "ipython",
    "version": 3
   },
   "file_extension": ".py",
   "mimetype": "text/x-python",
   "name": "python",
   "nbconvert_exporter": "python",
   "pygments_lexer": "ipython3",
   "version": "3.7.3"
  }
 },
 "nbformat": 4,
 "nbformat_minor": 2
}
